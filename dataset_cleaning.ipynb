{
 "cells": [
  {
   "cell_type": "code",
   "execution_count": 1,
   "id": "b89df96a",
   "metadata": {},
   "outputs": [
    {
     "data": {
      "text/html": [
       "<div>\n",
       "<style scoped>\n",
       "    .dataframe tbody tr th:only-of-type {\n",
       "        vertical-align: middle;\n",
       "    }\n",
       "\n",
       "    .dataframe tbody tr th {\n",
       "        vertical-align: top;\n",
       "    }\n",
       "\n",
       "    .dataframe thead th {\n",
       "        text-align: right;\n",
       "    }\n",
       "</style>\n",
       "<table border=\"1\" class=\"dataframe\">\n",
       "  <thead>\n",
       "    <tr style=\"text-align: right;\">\n",
       "      <th></th>\n",
       "      <th>hotel</th>\n",
       "      <th>is_canceled</th>\n",
       "      <th>lead_time</th>\n",
       "      <th>arrival_date_year</th>\n",
       "      <th>arrival_date_month</th>\n",
       "      <th>arrival_date_week_number</th>\n",
       "      <th>arrival_date_day_of_month</th>\n",
       "      <th>stays_in_weekend_nights</th>\n",
       "      <th>stays_in_week_nights</th>\n",
       "      <th>adults</th>\n",
       "      <th>...</th>\n",
       "      <th>deposit_type</th>\n",
       "      <th>agent</th>\n",
       "      <th>company</th>\n",
       "      <th>days_in_waiting_list</th>\n",
       "      <th>customer_type</th>\n",
       "      <th>adr</th>\n",
       "      <th>required_car_parking_spaces</th>\n",
       "      <th>total_of_special_requests</th>\n",
       "      <th>reservation_status</th>\n",
       "      <th>reservation_status_date</th>\n",
       "    </tr>\n",
       "  </thead>\n",
       "  <tbody>\n",
       "    <tr>\n",
       "      <th>0</th>\n",
       "      <td>Resort Hotel</td>\n",
       "      <td>0</td>\n",
       "      <td>342</td>\n",
       "      <td>2015</td>\n",
       "      <td>July</td>\n",
       "      <td>27</td>\n",
       "      <td>1</td>\n",
       "      <td>0</td>\n",
       "      <td>0</td>\n",
       "      <td>2</td>\n",
       "      <td>...</td>\n",
       "      <td>No Deposit</td>\n",
       "      <td>NaN</td>\n",
       "      <td>NaN</td>\n",
       "      <td>0</td>\n",
       "      <td>Transient</td>\n",
       "      <td>0.00</td>\n",
       "      <td>0</td>\n",
       "      <td>0</td>\n",
       "      <td>Check-Out</td>\n",
       "      <td>01-07-15</td>\n",
       "    </tr>\n",
       "    <tr>\n",
       "      <th>1</th>\n",
       "      <td>Resort Hotel</td>\n",
       "      <td>0</td>\n",
       "      <td>737</td>\n",
       "      <td>2015</td>\n",
       "      <td>July</td>\n",
       "      <td>27</td>\n",
       "      <td>1</td>\n",
       "      <td>0</td>\n",
       "      <td>0</td>\n",
       "      <td>2</td>\n",
       "      <td>...</td>\n",
       "      <td>No Deposit</td>\n",
       "      <td>NaN</td>\n",
       "      <td>NaN</td>\n",
       "      <td>0</td>\n",
       "      <td>Transient</td>\n",
       "      <td>0.00</td>\n",
       "      <td>0</td>\n",
       "      <td>0</td>\n",
       "      <td>Check-Out</td>\n",
       "      <td>01-07-15</td>\n",
       "    </tr>\n",
       "    <tr>\n",
       "      <th>2</th>\n",
       "      <td>Resort Hotel</td>\n",
       "      <td>0</td>\n",
       "      <td>7</td>\n",
       "      <td>2015</td>\n",
       "      <td>July</td>\n",
       "      <td>27</td>\n",
       "      <td>1</td>\n",
       "      <td>0</td>\n",
       "      <td>1</td>\n",
       "      <td>1</td>\n",
       "      <td>...</td>\n",
       "      <td>No Deposit</td>\n",
       "      <td>NaN</td>\n",
       "      <td>NaN</td>\n",
       "      <td>0</td>\n",
       "      <td>Transient</td>\n",
       "      <td>75.00</td>\n",
       "      <td>0</td>\n",
       "      <td>0</td>\n",
       "      <td>Check-Out</td>\n",
       "      <td>02-07-15</td>\n",
       "    </tr>\n",
       "    <tr>\n",
       "      <th>3</th>\n",
       "      <td>Resort Hotel</td>\n",
       "      <td>0</td>\n",
       "      <td>13</td>\n",
       "      <td>2015</td>\n",
       "      <td>July</td>\n",
       "      <td>27</td>\n",
       "      <td>1</td>\n",
       "      <td>0</td>\n",
       "      <td>1</td>\n",
       "      <td>1</td>\n",
       "      <td>...</td>\n",
       "      <td>No Deposit</td>\n",
       "      <td>304.0</td>\n",
       "      <td>NaN</td>\n",
       "      <td>0</td>\n",
       "      <td>Transient</td>\n",
       "      <td>75.00</td>\n",
       "      <td>0</td>\n",
       "      <td>0</td>\n",
       "      <td>Check-Out</td>\n",
       "      <td>02-07-15</td>\n",
       "    </tr>\n",
       "    <tr>\n",
       "      <th>4</th>\n",
       "      <td>Resort Hotel</td>\n",
       "      <td>0</td>\n",
       "      <td>14</td>\n",
       "      <td>2015</td>\n",
       "      <td>July</td>\n",
       "      <td>27</td>\n",
       "      <td>1</td>\n",
       "      <td>0</td>\n",
       "      <td>2</td>\n",
       "      <td>2</td>\n",
       "      <td>...</td>\n",
       "      <td>No Deposit</td>\n",
       "      <td>240.0</td>\n",
       "      <td>NaN</td>\n",
       "      <td>0</td>\n",
       "      <td>Transient</td>\n",
       "      <td>98.00</td>\n",
       "      <td>0</td>\n",
       "      <td>1</td>\n",
       "      <td>Check-Out</td>\n",
       "      <td>03-07-15</td>\n",
       "    </tr>\n",
       "    <tr>\n",
       "      <th>...</th>\n",
       "      <td>...</td>\n",
       "      <td>...</td>\n",
       "      <td>...</td>\n",
       "      <td>...</td>\n",
       "      <td>...</td>\n",
       "      <td>...</td>\n",
       "      <td>...</td>\n",
       "      <td>...</td>\n",
       "      <td>...</td>\n",
       "      <td>...</td>\n",
       "      <td>...</td>\n",
       "      <td>...</td>\n",
       "      <td>...</td>\n",
       "      <td>...</td>\n",
       "      <td>...</td>\n",
       "      <td>...</td>\n",
       "      <td>...</td>\n",
       "      <td>...</td>\n",
       "      <td>...</td>\n",
       "      <td>...</td>\n",
       "      <td>...</td>\n",
       "    </tr>\n",
       "    <tr>\n",
       "      <th>119385</th>\n",
       "      <td>City Hotel</td>\n",
       "      <td>0</td>\n",
       "      <td>23</td>\n",
       "      <td>2017</td>\n",
       "      <td>August</td>\n",
       "      <td>35</td>\n",
       "      <td>30</td>\n",
       "      <td>2</td>\n",
       "      <td>5</td>\n",
       "      <td>2</td>\n",
       "      <td>...</td>\n",
       "      <td>No Deposit</td>\n",
       "      <td>394.0</td>\n",
       "      <td>NaN</td>\n",
       "      <td>0</td>\n",
       "      <td>Transient</td>\n",
       "      <td>96.14</td>\n",
       "      <td>0</td>\n",
       "      <td>0</td>\n",
       "      <td>Check-Out</td>\n",
       "      <td>06-09-17</td>\n",
       "    </tr>\n",
       "    <tr>\n",
       "      <th>119386</th>\n",
       "      <td>City Hotel</td>\n",
       "      <td>0</td>\n",
       "      <td>102</td>\n",
       "      <td>2017</td>\n",
       "      <td>August</td>\n",
       "      <td>35</td>\n",
       "      <td>31</td>\n",
       "      <td>2</td>\n",
       "      <td>5</td>\n",
       "      <td>3</td>\n",
       "      <td>...</td>\n",
       "      <td>No Deposit</td>\n",
       "      <td>9.0</td>\n",
       "      <td>NaN</td>\n",
       "      <td>0</td>\n",
       "      <td>Transient</td>\n",
       "      <td>225.43</td>\n",
       "      <td>0</td>\n",
       "      <td>2</td>\n",
       "      <td>Check-Out</td>\n",
       "      <td>07-09-17</td>\n",
       "    </tr>\n",
       "    <tr>\n",
       "      <th>119387</th>\n",
       "      <td>City Hotel</td>\n",
       "      <td>0</td>\n",
       "      <td>34</td>\n",
       "      <td>2017</td>\n",
       "      <td>August</td>\n",
       "      <td>35</td>\n",
       "      <td>31</td>\n",
       "      <td>2</td>\n",
       "      <td>5</td>\n",
       "      <td>2</td>\n",
       "      <td>...</td>\n",
       "      <td>No Deposit</td>\n",
       "      <td>9.0</td>\n",
       "      <td>NaN</td>\n",
       "      <td>0</td>\n",
       "      <td>Transient</td>\n",
       "      <td>157.71</td>\n",
       "      <td>0</td>\n",
       "      <td>4</td>\n",
       "      <td>Check-Out</td>\n",
       "      <td>07-09-17</td>\n",
       "    </tr>\n",
       "    <tr>\n",
       "      <th>119388</th>\n",
       "      <td>City Hotel</td>\n",
       "      <td>0</td>\n",
       "      <td>109</td>\n",
       "      <td>2017</td>\n",
       "      <td>August</td>\n",
       "      <td>35</td>\n",
       "      <td>31</td>\n",
       "      <td>2</td>\n",
       "      <td>5</td>\n",
       "      <td>2</td>\n",
       "      <td>...</td>\n",
       "      <td>No Deposit</td>\n",
       "      <td>89.0</td>\n",
       "      <td>NaN</td>\n",
       "      <td>0</td>\n",
       "      <td>Transient</td>\n",
       "      <td>104.40</td>\n",
       "      <td>0</td>\n",
       "      <td>0</td>\n",
       "      <td>Check-Out</td>\n",
       "      <td>07-09-17</td>\n",
       "    </tr>\n",
       "    <tr>\n",
       "      <th>119389</th>\n",
       "      <td>City Hotel</td>\n",
       "      <td>0</td>\n",
       "      <td>205</td>\n",
       "      <td>2017</td>\n",
       "      <td>August</td>\n",
       "      <td>35</td>\n",
       "      <td>29</td>\n",
       "      <td>2</td>\n",
       "      <td>7</td>\n",
       "      <td>2</td>\n",
       "      <td>...</td>\n",
       "      <td>No Deposit</td>\n",
       "      <td>9.0</td>\n",
       "      <td>NaN</td>\n",
       "      <td>0</td>\n",
       "      <td>Transient</td>\n",
       "      <td>151.20</td>\n",
       "      <td>0</td>\n",
       "      <td>2</td>\n",
       "      <td>Check-Out</td>\n",
       "      <td>07-09-17</td>\n",
       "    </tr>\n",
       "  </tbody>\n",
       "</table>\n",
       "<p>119390 rows × 32 columns</p>\n",
       "</div>"
      ],
      "text/plain": [
       "               hotel  is_canceled  lead_time  arrival_date_year  \\\n",
       "0       Resort Hotel            0        342               2015   \n",
       "1       Resort Hotel            0        737               2015   \n",
       "2       Resort Hotel            0          7               2015   \n",
       "3       Resort Hotel            0         13               2015   \n",
       "4       Resort Hotel            0         14               2015   \n",
       "...              ...          ...        ...                ...   \n",
       "119385    City Hotel            0         23               2017   \n",
       "119386    City Hotel            0        102               2017   \n",
       "119387    City Hotel            0         34               2017   \n",
       "119388    City Hotel            0        109               2017   \n",
       "119389    City Hotel            0        205               2017   \n",
       "\n",
       "       arrival_date_month  arrival_date_week_number  \\\n",
       "0                    July                        27   \n",
       "1                    July                        27   \n",
       "2                    July                        27   \n",
       "3                    July                        27   \n",
       "4                    July                        27   \n",
       "...                   ...                       ...   \n",
       "119385             August                        35   \n",
       "119386             August                        35   \n",
       "119387             August                        35   \n",
       "119388             August                        35   \n",
       "119389             August                        35   \n",
       "\n",
       "        arrival_date_day_of_month  stays_in_weekend_nights  \\\n",
       "0                               1                        0   \n",
       "1                               1                        0   \n",
       "2                               1                        0   \n",
       "3                               1                        0   \n",
       "4                               1                        0   \n",
       "...                           ...                      ...   \n",
       "119385                         30                        2   \n",
       "119386                         31                        2   \n",
       "119387                         31                        2   \n",
       "119388                         31                        2   \n",
       "119389                         29                        2   \n",
       "\n",
       "        stays_in_week_nights  adults  ...  deposit_type  agent company  \\\n",
       "0                          0       2  ...    No Deposit    NaN     NaN   \n",
       "1                          0       2  ...    No Deposit    NaN     NaN   \n",
       "2                          1       1  ...    No Deposit    NaN     NaN   \n",
       "3                          1       1  ...    No Deposit  304.0     NaN   \n",
       "4                          2       2  ...    No Deposit  240.0     NaN   \n",
       "...                      ...     ...  ...           ...    ...     ...   \n",
       "119385                     5       2  ...    No Deposit  394.0     NaN   \n",
       "119386                     5       3  ...    No Deposit    9.0     NaN   \n",
       "119387                     5       2  ...    No Deposit    9.0     NaN   \n",
       "119388                     5       2  ...    No Deposit   89.0     NaN   \n",
       "119389                     7       2  ...    No Deposit    9.0     NaN   \n",
       "\n",
       "       days_in_waiting_list customer_type     adr  \\\n",
       "0                         0     Transient    0.00   \n",
       "1                         0     Transient    0.00   \n",
       "2                         0     Transient   75.00   \n",
       "3                         0     Transient   75.00   \n",
       "4                         0     Transient   98.00   \n",
       "...                     ...           ...     ...   \n",
       "119385                    0     Transient   96.14   \n",
       "119386                    0     Transient  225.43   \n",
       "119387                    0     Transient  157.71   \n",
       "119388                    0     Transient  104.40   \n",
       "119389                    0     Transient  151.20   \n",
       "\n",
       "        required_car_parking_spaces  total_of_special_requests  \\\n",
       "0                                 0                          0   \n",
       "1                                 0                          0   \n",
       "2                                 0                          0   \n",
       "3                                 0                          0   \n",
       "4                                 0                          1   \n",
       "...                             ...                        ...   \n",
       "119385                            0                          0   \n",
       "119386                            0                          2   \n",
       "119387                            0                          4   \n",
       "119388                            0                          0   \n",
       "119389                            0                          2   \n",
       "\n",
       "        reservation_status reservation_status_date  \n",
       "0                Check-Out                01-07-15  \n",
       "1                Check-Out                01-07-15  \n",
       "2                Check-Out                02-07-15  \n",
       "3                Check-Out                02-07-15  \n",
       "4                Check-Out                03-07-15  \n",
       "...                    ...                     ...  \n",
       "119385           Check-Out                06-09-17  \n",
       "119386           Check-Out                07-09-17  \n",
       "119387           Check-Out                07-09-17  \n",
       "119388           Check-Out                07-09-17  \n",
       "119389           Check-Out                07-09-17  \n",
       "\n",
       "[119390 rows x 32 columns]"
      ]
     },
     "execution_count": 1,
     "metadata": {},
     "output_type": "execute_result"
    }
   ],
   "source": [
    "import pandas as pd\n",
    "file_path = 'dataset/raw/hotel_bookings.csv'\n",
    "df = pd.read_csv(file_path)\n",
    "df"
   ]
  },
  {
   "cell_type": "code",
   "execution_count": 2,
   "id": "4064804c",
   "metadata": {},
   "outputs": [
    {
     "data": {
      "text/plain": [
       "hotel                                  0\n",
       "is_canceled                            0\n",
       "lead_time                              0\n",
       "arrival_date_year                      0\n",
       "arrival_date_month                     0\n",
       "arrival_date_week_number               0\n",
       "arrival_date_day_of_month              0\n",
       "stays_in_weekend_nights                0\n",
       "stays_in_week_nights                   0\n",
       "adults                                 0\n",
       "children                               4\n",
       "babies                                 0\n",
       "meal                                   0\n",
       "country                              488\n",
       "market_segment                         0\n",
       "distribution_channel                   0\n",
       "is_repeated_guest                      0\n",
       "previous_cancellations                 0\n",
       "previous_bookings_not_canceled         0\n",
       "reserved_room_type                     0\n",
       "assigned_room_type                     0\n",
       "booking_changes                        0\n",
       "deposit_type                           0\n",
       "agent                              16340\n",
       "company                           112593\n",
       "days_in_waiting_list                   0\n",
       "customer_type                          0\n",
       "adr                                    0\n",
       "required_car_parking_spaces            0\n",
       "total_of_special_requests              0\n",
       "reservation_status                     0\n",
       "reservation_status_date                0\n",
       "dtype: int64"
      ]
     },
     "execution_count": 2,
     "metadata": {},
     "output_type": "execute_result"
    }
   ],
   "source": [
    "# Checking for missing values\n",
    "missing_values = df.isnull().sum()\n",
    "missing_values"
   ]
  },
  {
   "cell_type": "code",
   "execution_count": 3,
   "id": "b8af2781",
   "metadata": {},
   "outputs": [
    {
     "data": {
      "text/plain": [
       "hotel                              object\n",
       "is_canceled                         int64\n",
       "lead_time                           int64\n",
       "arrival_date_year                   int64\n",
       "arrival_date_month                 object\n",
       "arrival_date_week_number            int64\n",
       "arrival_date_day_of_month           int64\n",
       "stays_in_weekend_nights             int64\n",
       "stays_in_week_nights                int64\n",
       "adults                              int64\n",
       "children                          float64\n",
       "babies                              int64\n",
       "meal                               object\n",
       "country                            object\n",
       "market_segment                     object\n",
       "distribution_channel               object\n",
       "is_repeated_guest                   int64\n",
       "previous_cancellations              int64\n",
       "previous_bookings_not_canceled      int64\n",
       "reserved_room_type                 object\n",
       "assigned_room_type                 object\n",
       "booking_changes                     int64\n",
       "deposit_type                       object\n",
       "agent                             float64\n",
       "company                           float64\n",
       "days_in_waiting_list                int64\n",
       "customer_type                      object\n",
       "adr                               float64\n",
       "required_car_parking_spaces         int64\n",
       "total_of_special_requests           int64\n",
       "reservation_status                 object\n",
       "reservation_status_date            object\n",
       "dtype: object"
      ]
     },
     "execution_count": 3,
     "metadata": {},
     "output_type": "execute_result"
    }
   ],
   "source": [
    "# Checking the data types of each column in the dataset\n",
    "column_data_types = df.dtypes\n",
    "\n",
    "# Display the data types of all columns\n",
    "column_data_types"
   ]
  },
  {
   "cell_type": "code",
   "execution_count": 4,
   "id": "1d191796",
   "metadata": {},
   "outputs": [
    {
     "name": "stdout",
     "output_type": "stream",
     "text": [
      "\n",
      "Unique values in 'hotel':\n",
      "['Resort Hotel' 'City Hotel']\n",
      "\n",
      "Unique values in 'arrival_date_month':\n",
      "['July' 'August' 'September' 'October' 'November' 'December' 'January'\n",
      " 'February' 'March' 'April' 'May' 'June']\n",
      "\n",
      "Unique values in 'meal':\n",
      "['BB' 'FB' 'HB' 'SC' 'Undefined']\n",
      "\n",
      "Unique values in 'country':\n",
      "['PRT' 'GBR' 'USA' 'ESP' 'IRL' 'FRA' nan 'ROU' 'NOR' 'OMN' 'ARG' 'POL'\n",
      " 'DEU' 'BEL' 'CHE' 'CN' 'GRC' 'ITA' 'NLD' 'DNK' 'RUS' 'SWE' 'AUS' 'EST'\n",
      " 'CZE' 'BRA' 'FIN' 'MOZ' 'BWA' 'LUX' 'SVN' 'ALB' 'IND' 'CHN' 'MEX' 'MAR'\n",
      " 'UKR' 'SMR' 'LVA' 'PRI' 'SRB' 'CHL' 'AUT' 'BLR' 'LTU' 'TUR' 'ZAF' 'AGO'\n",
      " 'ISR' 'CYM' 'ZMB' 'CPV' 'ZWE' 'DZA' 'KOR' 'CRI' 'HUN' 'ARE' 'TUN' 'JAM'\n",
      " 'HRV' 'HKG' 'IRN' 'GEO' 'AND' 'GIB' 'URY' 'JEY' 'CAF' 'CYP' 'COL' 'GGY'\n",
      " 'KWT' 'NGA' 'MDV' 'VEN' 'SVK' 'FJI' 'KAZ' 'PAK' 'IDN' 'LBN' 'PHL' 'SEN'\n",
      " 'SYC' 'AZE' 'BHR' 'NZL' 'THA' 'DOM' 'MKD' 'MYS' 'ARM' 'JPN' 'LKA' 'CUB'\n",
      " 'CMR' 'BIH' 'MUS' 'COM' 'SUR' 'UGA' 'BGR' 'CIV' 'JOR' 'SYR' 'SGP' 'BDI'\n",
      " 'SAU' 'VNM' 'PLW' 'QAT' 'EGY' 'PER' 'MLT' 'MWI' 'ECU' 'MDG' 'ISL' 'UZB'\n",
      " 'NPL' 'BHS' 'MAC' 'TGO' 'TWN' 'DJI' 'STP' 'KNA' 'ETH' 'IRQ' 'HND' 'RWA'\n",
      " 'KHM' 'MCO' 'BGD' 'IMN' 'TJK' 'NIC' 'BEN' 'VGB' 'TZA' 'GAB' 'GHA' 'TMP'\n",
      " 'GLP' 'KEN' 'LIE' 'GNB' 'MNE' 'UMI' 'MYT' 'FRO' 'MMR' 'PAN' 'BFA' 'LBY'\n",
      " 'MLI' 'NAM' 'BOL' 'PRY' 'BRB' 'ABW' 'AIA' 'SLV' 'DMA' 'PYF' 'GUY' 'LCA'\n",
      " 'ATA' 'GTM' 'ASM' 'MRT' 'NCL' 'KIR' 'SDN' 'ATF' 'SLE' 'LAO']\n",
      "\n",
      "Unique values in 'market_segment':\n",
      "['Direct' 'Corporate' 'Online TA' 'Offline TA/TO' 'Complementary' 'Groups'\n",
      " 'Undefined' 'Aviation']\n",
      "\n",
      "Unique values in 'distribution_channel':\n",
      "['Direct' 'Corporate' 'TA/TO' 'Undefined' 'GDS']\n",
      "\n",
      "Unique values in 'reserved_room_type':\n",
      "['C' 'A' 'D' 'E' 'G' 'F' 'H' 'L' 'P' 'B']\n",
      "\n",
      "Unique values in 'assigned_room_type':\n",
      "['C' 'A' 'D' 'E' 'G' 'F' 'I' 'B' 'H' 'P' 'L' 'K']\n",
      "\n",
      "Unique values in 'deposit_type':\n",
      "['No Deposit' 'Refundable' 'Non Refund']\n",
      "\n",
      "Unique values in 'customer_type':\n",
      "['Transient' 'Contract' 'Transient-Party' 'Group']\n",
      "\n",
      "Unique values in 'reservation_status':\n",
      "['Check-Out' 'Canceled' 'No-Show']\n",
      "\n",
      "Unique values in 'reservation_status_date':\n",
      "['01-07-15' '02-07-15' '03-07-15' '06-05-15' '22-04-15' '23-06-15'\n",
      " '05-07-15' '06-07-15' '07-07-15' '08-07-15' '11-05-15' '15-07-15'\n",
      " '16-07-15' '29-05-15' '19-05-15' '19-06-15' '23-05-15' '18-05-15'\n",
      " '09-07-15' '02-06-15' '13-07-15' '04-07-15' '29-06-15' '16-06-15'\n",
      " '18-06-15' '12-06-15' '09-06-15' '26-05-15' '11-07-15' '12-07-15'\n",
      " '17-07-15' '15-04-15' '13-05-15' '10-07-15' '20-05-15' '12-05-15'\n",
      " '14-07-15' '17-06-15' '01-05-15' '30-03-15' '19-07-15' '03-06-15'\n",
      " '26-06-15' '14-05-15' '20-07-15' '07-05-15' '28-05-15' '13-04-15'\n",
      " '25-03-15' '21-07-15' '27-06-15' '18-07-15' '23-07-15' '08-06-15'\n",
      " '22-06-15' '24-06-15' '05-03-15' '01-06-15' '24-04-15' '22-07-15'\n",
      " '27-05-15' '06-04-15' '11-04-15' '25-07-15' '28-07-15' '29-07-15'\n",
      " '25-06-15' '24-07-15' '05-06-15' '30-06-15' '13-06-15' '11-06-15'\n",
      " '30-07-15' '27-07-15' '29-04-15' '04-06-15' '26-07-15' '01-08-15'\n",
      " '02-08-15' '15-06-15' '23-04-15' '31-07-15' '25-05-15' '03-08-15'\n",
      " '17-04-15' '04-08-15' '06-08-15' '15-05-15' '09-05-15' '17-03-15'\n",
      " '22-05-15' '07-08-15' '04-04-15' '05-08-15' '08-08-15' '10-08-15'\n",
      " '04-05-15' '06-06-15' '09-08-15' '15-08-15' '11-08-15' '28-03-15'\n",
      " '14-08-15' '12-08-15' '16-08-15' '16-05-15' '21-08-15' '13-08-15'\n",
      " '17-08-15' '20-04-15' '18-08-15' '23-08-15' '22-08-15' '19-08-15'\n",
      " '20-08-15' '29-08-15' '31-03-15' '30-05-15' '25-08-15' '14-04-15'\n",
      " '24-08-15' '24-03-15' '21-05-15' '28-08-15' '26-08-15' '27-08-15'\n",
      " '30-08-15' '31-08-15' '06-09-15' '03-09-15' '04-09-15' '02-09-15'\n",
      " '01-09-15' '05-09-15' '20-06-15' '07-09-15' '10-09-15' '11-09-15'\n",
      " '08-09-15' '09-09-15' '13-09-15' '15-09-15' '10-04-15' '02-01-15'\n",
      " '18-11-14' '12-09-15' '17-09-15' '14-09-15' '07-04-15' '19-09-15'\n",
      " '16-09-15' '20-09-15' '18-01-15' '23-10-15' '22-01-15' '01-01-15'\n",
      " '22-09-15' '24-09-15' '18-09-15' '21-09-15' '30-09-15' '25-09-15'\n",
      " '27-09-15' '28-09-15' '12-10-15' '29-09-15' '23-09-15' '01-10-15'\n",
      " '26-09-15' '18-04-15' '02-10-15' '04-10-15' '08-10-15' '03-10-15'\n",
      " '07-10-15' '09-10-15' '11-10-15' '05-10-15' '06-10-15' '10-10-15'\n",
      " '14-10-15' '15-10-15' '18-10-15' '13-10-15' '20-10-15' '19-10-15'\n",
      " '31-10-15' '16-10-15' '21-10-15' '22-10-15' '17-10-15' '24-10-15'\n",
      " '25-10-15' '28-10-15' '27-10-15' '26-10-15' '30-10-15' '05-11-15'\n",
      " '29-10-15' '03-11-15' '07-11-15' '04-11-15' '01-11-15' '02-11-15'\n",
      " '17-11-15' '06-11-15' '10-11-15' '08-11-15' '09-11-15' '15-11-15'\n",
      " '16-11-15' '11-11-15' '12-11-15' '14-11-15' '13-11-15' '18-11-15'\n",
      " '22-11-15' '19-11-15' '21-11-15' '20-11-15' '24-11-15' '25-11-15'\n",
      " '23-11-15' '28-11-15' '26-11-15' '27-11-15' '29-11-15' '04-12-15'\n",
      " '01-12-15' '06-12-15' '08-12-15' '02-12-15' '03-12-15' '31-12-15'\n",
      " '05-12-15' '10-12-15' '17-12-15' '30-11-15' '12-12-15' '07-12-15'\n",
      " '05-01-16' '11-12-15' '13-12-15' '15-12-15' '16-12-15' '19-12-15'\n",
      " '18-12-15' '26-12-15' '27-12-15' '22-12-15' '23-12-15' '24-12-15'\n",
      " '29-12-15' '28-12-15' '20-12-15' '30-12-15' '02-01-16' '01-01-16'\n",
      " '25-12-15' '03-01-16' '04-01-16' '11-01-16' '07-01-16' '21-12-15'\n",
      " '09-01-16' '10-01-16' '08-01-16' '06-01-16' '12-01-16' '13-01-16'\n",
      " '23-01-16' '09-02-16' '15-01-16' '16-01-16' '17-01-16' '19-01-16'\n",
      " '18-01-16' '21-01-16' '24-01-16' '22-01-16' '29-01-16' '27-01-16'\n",
      " '25-01-16' '08-03-16' '26-01-16' '20-01-16' '30-01-16' '01-02-16'\n",
      " '02-02-16' '08-02-16' '07-02-16' '28-01-16' '05-02-16' '03-02-16'\n",
      " '13-02-16' '10-02-16' '04-02-16' '12-02-16' '11-02-16' '16-02-16'\n",
      " '14-02-16' '15-02-16' '20-02-16' '06-02-16' '14-01-16' '17-02-16'\n",
      " '21-02-16' '24-02-16' '25-02-16' '19-02-16' '18-02-16' '26-02-16'\n",
      " '23-02-16' '05-03-16' '22-02-16' '27-02-16' '03-03-16' '24-03-16'\n",
      " '04-03-16' '29-02-16' '01-03-16' '02-03-16' '30-03-16' '07-03-16'\n",
      " '14-03-16' '21-03-16' '09-03-16' '12-03-16' '22-03-16' '10-03-16'\n",
      " '11-03-16' '20-03-16' '15-03-16' '17-03-16' '16-03-16' '19-03-16'\n",
      " '27-03-16' '18-03-16' '26-03-16' '31-03-16' '28-03-16' '29-03-16'\n",
      " '01-04-16' '23-03-16' '02-04-16' '25-03-16' '13-03-16' '04-04-16'\n",
      " '03-04-16' '05-04-16' '08-04-16' '06-04-16' '09-04-16' '12-04-16'\n",
      " '16-04-16' '17-04-16' '27-04-16' '14-04-16' '18-04-16' '21-04-16'\n",
      " '19-04-16' '20-04-16' '10-04-16' '13-04-16' '11-04-16' '07-04-16'\n",
      " '15-04-16' '22-04-16' '23-04-16' '26-04-16' '28-04-16' '24-04-16'\n",
      " '25-04-16' '29-04-16' '30-04-16' '01-05-16' '10-05-16' '02-05-16'\n",
      " '07-05-16' '08-05-16' '12-05-16' '04-05-16' '06-05-16' '03-05-16'\n",
      " '09-05-16' '05-05-16' '13-05-16' '14-05-16' '18-05-16' '19-05-16'\n",
      " '15-05-16' '16-05-16' '11-05-16' '21-05-16' '22-05-16' '20-05-16'\n",
      " '24-05-16' '25-05-16' '26-05-16' '23-05-16' '27-05-16' '17-05-16'\n",
      " '29-05-16' '28-05-16' '30-05-16' '31-05-16' '01-06-16' '03-06-16'\n",
      " '08-06-16' '02-06-16' '05-06-16' '06-06-16' '13-06-16' '07-06-16'\n",
      " '10-06-16' '11-06-16' '16-06-16' '12-06-16' '14-06-16' '17-06-16'\n",
      " '04-06-16' '18-06-16' '21-06-16' '09-06-16' '24-06-16' '20-06-16'\n",
      " '25-06-16' '22-06-16' '26-06-16' '23-06-16' '01-07-16' '15-06-16'\n",
      " '28-06-16' '02-07-16' '19-06-16' '27-06-16' '04-07-16' '30-06-16'\n",
      " '05-07-16' '08-07-16' '09-07-16' '07-07-16' '12-07-16' '29-06-16'\n",
      " '10-07-16' '15-07-16' '03-07-16' '16-07-16' '14-07-16' '18-07-16'\n",
      " '13-07-16' '06-07-16' '20-07-16' '21-07-16' '23-07-16' '19-07-16'\n",
      " '11-07-16' '28-07-16' '17-07-16' '25-07-16' '22-07-16' '29-07-16'\n",
      " '03-08-16' '02-08-16' '04-08-16' '08-08-16' '10-08-16' '01-08-16'\n",
      " '06-08-16' '06-03-16' '05-08-16' '26-07-16' '07-08-16' '30-07-16'\n",
      " '24-07-16' '12-08-16' '27-07-16' '13-08-16' '18-08-16' '16-08-16'\n",
      " '15-08-16' '17-08-16' '11-08-16' '31-07-16' '19-08-16' '01-09-16'\n",
      " '23-08-16' '26-08-16' '20-08-16' '21-08-16' '04-09-16' '22-08-16'\n",
      " '27-08-16' '25-08-16' '09-08-16' '05-09-16' '24-08-16' '10-09-16'\n",
      " '29-08-16' '09-09-16' '30-08-16' '13-09-16' '31-08-16' '14-09-16'\n",
      " '12-09-16' '15-09-16' '14-08-16' '02-09-16' '08-09-16' '19-09-16'\n",
      " '16-09-16' '07-09-16' '21-09-16' '06-09-16' '22-09-16' '17-09-16'\n",
      " '20-09-16' '03-09-16' '26-09-16' '23-09-16' '18-09-16' '29-09-16'\n",
      " '02-10-16' '01-10-16' '27-09-16' '25-09-16' '05-10-16' '11-09-16'\n",
      " '30-09-16' '09-10-16' '03-10-16' '06-10-16' '11-10-16' '24-09-16'\n",
      " '13-10-16' '28-09-16' '08-10-16' '07-10-16' '16-10-16' '28-08-16'\n",
      " '17-10-16' '18-10-16' '10-10-16' '04-10-16' '15-10-16' '19-10-16'\n",
      " '21-10-16' '12-10-16' '24-10-16' '26-10-16' '23-10-16' '20-10-16'\n",
      " '25-10-16' '27-10-16' '28-10-16' '30-10-16' '29-10-16' '01-11-16'\n",
      " '04-11-16' '14-10-16' '07-11-16' '03-11-16' '10-11-16' '14-11-16'\n",
      " '02-11-16' '31-10-16' '11-11-16' '08-11-16' '05-11-16' '25-11-16'\n",
      " '09-11-16' '20-11-16' '21-11-16' '22-10-16' '22-11-16' '16-11-16'\n",
      " '23-11-16' '17-11-16' '06-11-16' '15-11-16' '13-11-16' '12-11-16'\n",
      " '27-11-16' '19-11-16' '30-11-16' '18-11-16' '02-12-16' '04-12-16'\n",
      " '29-11-16' '07-12-16' '28-11-16' '03-12-16' '06-12-16' '24-11-16'\n",
      " '08-12-16' '05-12-16' '10-12-16' '13-12-16' '14-12-16' '16-12-16'\n",
      " '15-12-16' '17-12-16' '19-12-16' '21-12-16' '20-12-16' '22-12-16'\n",
      " '23-12-16' '24-12-16' '01-12-16' '27-12-16' '29-12-16' '30-12-16'\n",
      " '12-12-16' '02-01-17' '11-12-16' '03-01-17' '04-01-17' '01-01-17'\n",
      " '26-12-16' '06-01-17' '28-12-16' '18-12-16' '10-01-17' '11-01-17'\n",
      " '07-01-17' '12-01-17' '16-01-17' '14-01-17' '13-01-17' '05-01-17'\n",
      " '17-01-17' '20-01-17' '09-12-16' '26-01-17' '31-12-16' '23-01-17'\n",
      " '27-01-17' '28-01-17' '19-01-17' '25-01-17' '24-01-17' '29-01-17'\n",
      " '18-01-17' '25-12-16' '15-01-17' '21-01-17' '01-02-17' '02-02-17'\n",
      " '31-01-17' '03-02-17' '04-02-17' '06-02-17' '07-02-17' '08-02-17'\n",
      " '30-01-17' '09-02-17' '09-01-17' '11-02-17' '10-02-17' '12-02-17'\n",
      " '13-02-17' '14-02-17' '16-02-17' '17-02-17' '18-02-17' '19-02-17'\n",
      " '20-02-17' '15-02-17' '21-02-17' '22-02-17' '26-02-17' '23-02-17'\n",
      " '24-02-17' '25-02-17' '28-02-17' '05-03-17' '27-02-17' '03-03-17'\n",
      " '06-03-17' '02-03-17' '08-03-17' '09-03-17' '10-03-17' '07-03-17'\n",
      " '12-03-17' '13-03-17' '14-03-17' '01-03-17' '18-03-17' '17-03-17'\n",
      " '24-03-17' '22-03-17' '26-03-17' '27-03-17' '11-03-17' '28-03-17'\n",
      " '29-03-17' '30-03-17' '31-03-17' '19-03-17' '22-01-17' '02-04-17'\n",
      " '20-03-17' '03-04-17' '08-01-17' '23-03-17' '05-04-17' '05-02-17'\n",
      " '04-04-17' '15-03-17' '07-04-17' '25-03-17' '08-04-17' '06-04-17'\n",
      " '21-03-17' '10-04-17' '01-04-17' '11-04-17' '13-04-17' '15-04-17'\n",
      " '12-04-17' '04-03-17' '19-04-17' '22-04-17' '20-04-17' '02-05-17'\n",
      " '09-04-17' '23-04-17' '24-04-17' '16-04-17' '28-04-17' '18-04-17'\n",
      " '26-04-17' '25-04-17' '17-04-17' '21-04-17' '03-05-17' '04-05-17'\n",
      " '16-03-17' '05-05-17' '29-04-17' '14-04-17' '08-05-17' '27-04-17'\n",
      " '11-05-17' '01-05-17' '10-05-17' '13-05-17' '06-05-17' '14-05-17'\n",
      " '16-05-17' '30-04-17' '15-05-17' '07-05-17' '09-05-17' '17-05-17'\n",
      " '21-05-17' '12-05-17' '22-05-17' '24-05-17' '23-05-17' '25-05-17'\n",
      " '26-05-17' '28-05-17' '27-05-17' '29-05-17' '19-05-17' '31-05-17'\n",
      " '20-05-17' '01-06-17' '30-05-17' '02-06-17' '26-11-16' '04-06-17'\n",
      " '05-06-17' '06-06-17' '07-06-17' '18-05-17' '09-06-17' '10-06-17'\n",
      " '11-06-17' '12-06-17' '14-06-17' '08-06-17' '16-06-17' '13-06-17'\n",
      " '03-06-17' '24-06-17' '20-06-17' '19-06-17' '21-06-17' '26-06-17'\n",
      " '27-06-17' '22-06-17' '28-06-17' '15-06-17' '29-06-17' '30-06-17'\n",
      " '18-06-17' '04-07-17' '08-07-17' '05-07-17' '03-07-17' '07-07-17'\n",
      " '01-07-17' '06-07-17' '11-07-17' '12-07-17' '23-06-17' '13-07-17'\n",
      " '02-07-17' '10-07-17' '14-07-17' '15-07-17' '16-07-17' '18-07-17'\n",
      " '17-07-17' '19-07-17' '20-07-17' '21-07-17' '25-06-17' '17-06-17'\n",
      " '24-07-17' '26-07-17' '09-07-17' '27-07-17' '28-07-17' '31-07-17'\n",
      " '29-07-17' '22-07-17' '02-08-17' '01-08-17' '03-08-17' '04-08-17'\n",
      " '25-07-17' '23-07-17' '09-08-17' '10-08-17' '30-07-17' '07-08-17'\n",
      " '13-08-17' '05-08-17' '14-08-17' '08-08-17' '16-08-17' '17-08-17'\n",
      " '15-08-17' '18-08-17' '20-08-17' '22-08-17' '06-08-17' '25-08-17'\n",
      " '26-08-17' '23-08-17' '11-08-17' '27-08-17' '21-08-17' '29-08-17'\n",
      " '31-08-17' '12-08-17' '19-08-17' '31-01-16' '01-09-17' '28-08-17'\n",
      " '03-04-15' '21-01-15' '28-01-15' '29-01-15' '30-01-15' '02-02-15'\n",
      " '05-02-15' '06-02-15' '09-02-15' '10-02-15' '11-02-15' '12-02-15'\n",
      " '19-02-15' '20-02-15' '23-02-15' '24-02-15' '25-02-15' '26-02-15'\n",
      " '27-02-15' '03-03-15' '04-03-15' '06-03-15' '09-03-15' '11-03-15'\n",
      " '12-03-15' '18-03-15' '02-04-15' '14-06-15' '08-04-15' '16-04-15'\n",
      " '25-04-15' '28-04-15' '08-05-15' '06-09-17' '28-02-16' '09-12-15'\n",
      " '14-12-15' '09-09-17' '02-09-17' '24-08-17' '30-08-17' '03-09-17'\n",
      " '04-09-17' '05-09-17' '07-09-17' '08-09-17' '10-09-17' '12-09-17'\n",
      " '14-09-17' '30-04-15' '21-04-15' '05-04-15' '13-03-15' '05-05-15'\n",
      " '29-03-15' '10-06-15' '27-04-15' '17-10-14' '20-01-15' '17-02-15'\n",
      " '10-03-15' '23-03-15']\n"
     ]
    }
   ],
   "source": [
    "# 5. Check for inconsistent categorical data (e.g., different capitalizations, unexpected values)\n",
    "categorical_columns = df.select_dtypes(include=['object']).columns\n",
    "for col in categorical_columns:\n",
    "    unique_values = df[col].unique()\n",
    "    print(f\"\\nUnique values in '{col}':\")\n",
    "    print(unique_values)"
   ]
  },
  {
   "cell_type": "code",
   "execution_count": 5,
   "id": "aa7fc273",
   "metadata": {},
   "outputs": [
    {
     "name": "stdout",
     "output_type": "stream",
     "text": [
      "Missing values after handling:\n",
      "hotel                             0\n",
      "is_canceled                       0\n",
      "lead_time                         0\n",
      "arrival_date_year                 0\n",
      "arrival_date_month                0\n",
      "arrival_date_week_number          0\n",
      "arrival_date_day_of_month         0\n",
      "stays_in_weekend_nights           0\n",
      "stays_in_week_nights              0\n",
      "adults                            0\n",
      "children                          0\n",
      "babies                            0\n",
      "meal                              0\n",
      "country                           0\n",
      "market_segment                    0\n",
      "distribution_channel              0\n",
      "is_repeated_guest                 0\n",
      "previous_cancellations            0\n",
      "previous_bookings_not_canceled    0\n",
      "reserved_room_type                0\n",
      "assigned_room_type                0\n",
      "booking_changes                   0\n",
      "deposit_type                      0\n",
      "agent                             0\n",
      "days_in_waiting_list              0\n",
      "customer_type                     0\n",
      "adr                               0\n",
      "required_car_parking_spaces       0\n",
      "total_of_special_requests         0\n",
      "reservation_status                0\n",
      "reservation_status_date           0\n",
      "dtype: int64\n"
     ]
    }
   ],
   "source": [
    "# Handling missing values\n",
    "\n",
    "# 1. Impute missing values in numerical columns\n",
    "# Impute missing 'children' with the median (because it is a numerical column)\n",
    "df['children'] = df['children'].fillna(df['children'].median())\n",
    "\n",
    "# Impute missing 'country' with the mode (because it is a categorical column)\n",
    "df['country'] = df['country'].fillna(df['country'].mode()[0])\n",
    "\n",
    "# Impute missing 'agent' with the median (numerical column)\n",
    "df['agent'] = df['agent'].fillna(df['agent'].median())\n",
    "\n",
    "# Impute missing 'company' with a placeholder value \"Unknown\"\n",
    "df['company'] = df['company'].fillna('Unknown')\n",
    "\n",
    "# 2. Dropping columns with a large number of missing values (optional)\n",
    "# Drop 'company' since it has too many missing values\n",
    "df.drop(columns=['company'], inplace=True)\n",
    "\n",
    "# 3. After filling or removing missing values, check if there are any remaining missing values\n",
    "missing_values_after = df.isnull().sum()\n",
    "print(\"Missing values after handling:\")\n",
    "print(missing_values_after)"
   ]
  },
  {
   "cell_type": "code",
   "execution_count": 6,
   "id": "c4ce482d",
   "metadata": {},
   "outputs": [],
   "source": [
    "# Check for non-numeric values in numerical columns (int64 and float64 columns)\n",
    "numerical_columns = df.select_dtypes(include=['int64', 'float64']).columns\n",
    "for col in numerical_columns:\n",
    "    non_numeric_rows = df[~df[col].apply(lambda x: isinstance(x, (int, float)))].shape[0]\n",
    "    if non_numeric_rows > 0:\n",
    "        print(f\"Column '{col}' contains {non_numeric_rows} non-numeric rows.\")\n",
    "        \n",
    "# Check for non-string values in categorical (object) columns\n",
    "categorical_columns = df.select_dtypes(include=['object']).columns\n",
    "for col in categorical_columns:\n",
    "    non_string_rows = df[~df[col].apply(lambda x: isinstance(x, str))].shape[0]\n",
    "    if non_string_rows > 0:\n",
    "        print(f\"Column '{col}' contains {non_string_rows} non-string rows.\")\n",
    "\n",
    "# Check for missing values in columns that should not have NaNs (for example, integers or floats should not have NaNs unless imputation is required)\n",
    "missing_values_check = df.isna().sum()\n",
    "for col in missing_values_check[missing_values_check > 0].index:\n",
    "    print(f\"Column '{col}' has {missing_values_check[col]} missing values.\")"
   ]
  },
  {
   "cell_type": "code",
   "execution_count": 7,
   "id": "2211f9c5",
   "metadata": {},
   "outputs": [
    {
     "name": "stdout",
     "output_type": "stream",
     "text": [
      "\n",
      "Data types after conversion:\n",
      "hotel                                     object\n",
      "is_canceled                                int64\n",
      "lead_time                                  int64\n",
      "arrival_date_year                          int64\n",
      "arrival_date_month                        object\n",
      "arrival_date_week_number                   int64\n",
      "arrival_date_day_of_month                  int64\n",
      "stays_in_weekend_nights                    int64\n",
      "stays_in_week_nights                       int64\n",
      "adults                                     int64\n",
      "children                                 float64\n",
      "babies                                     int64\n",
      "meal                                      object\n",
      "country                                   object\n",
      "market_segment                            object\n",
      "distribution_channel                      object\n",
      "is_repeated_guest                          int64\n",
      "previous_cancellations                     int64\n",
      "previous_bookings_not_canceled             int64\n",
      "reserved_room_type                        object\n",
      "assigned_room_type                        object\n",
      "booking_changes                            int64\n",
      "deposit_type                              object\n",
      "agent                                    float64\n",
      "days_in_waiting_list                       int64\n",
      "customer_type                             object\n",
      "adr                                      float64\n",
      "required_car_parking_spaces                int64\n",
      "total_of_special_requests                  int64\n",
      "reservation_status                        object\n",
      "reservation_status_date           datetime64[ns]\n",
      "dtype: object\n"
     ]
    },
    {
     "name": "stderr",
     "output_type": "stream",
     "text": [
      "C:\\Users\\alway\\AppData\\Local\\Temp\\ipykernel_23448\\2957548219.py:3: UserWarning: Could not infer format, so each element will be parsed individually, falling back to `dateutil`. To ensure parsing is consistent and as-expected, please specify a format.\n",
      "  df['reservation_status_date'] = pd.to_datetime(df['reservation_status_date'])\n"
     ]
    }
   ],
   "source": [
    "# Step 1: Convert 'reservation_status_date' to datetime\n",
    "\n",
    "df['reservation_status_date'] = pd.to_datetime(df['reservation_status_date'])\n",
    "\n",
    "# Step 2: Convert 'arrival_date_year', 'arrival_date_month', and 'arrival_date_week_number' to proper integer types\n",
    "\n",
    "df['arrival_date_year'] = df['arrival_date_year'].astype(int)\n",
    "df['arrival_date_week_number'] = df['arrival_date_week_number'].astype(int)\n",
    "\n",
    "# Step 3: Convert 'adr' column to float (if it was wrongly read as object or string)\n",
    "\n",
    "df['adr'] = df['adr'].astype(float)\n",
    "\n",
    "# Verify the changes\n",
    "\n",
    "print(\"\\nData types after conversion:\")\n",
    "print(df.dtypes)"
   ]
  },
  {
   "cell_type": "code",
   "execution_count": 8,
   "id": "d69f5da3",
   "metadata": {},
   "outputs": [
    {
     "data": {
      "image/png": "[encoded data removed]",
      "text/plain": [
       "<Figure size 1200x600 with 1 Axes>"
      ]
     },
     "metadata": {},
     "output_type": "display_data"
    }
   ],
   "source": [
    "import pandas as pd\n",
    "import numpy as np\n",
    "import matplotlib.pyplot as plt\n",
    "import seaborn as sns\n",
    "import geopandas as gpd\n",
    "\n",
    "\n",
    "# Convert dates\n",
    "df['reservation_status_date'] = pd.to_datetime(df['reservation_status_date'])\n",
    "\n",
    "# 1. Revenue Trends Over Time\n",
    "df['total_revenue'] = df['adr'] * (df['stays_in_week_nights'] + df['stays_in_weekend_nights'])\n",
    "revenue_trends = df.groupby(df['reservation_status_date'].dt.to_period('M'))['total_revenue'].sum()\n",
    "\n",
    "plt.figure(figsize=(12, 6))\n",
    "revenue_trends.plot(kind='line', marker='o', color='b')\n",
    "plt.title('Monthly Revenue Trends')\n",
    "plt.xlabel('Date')\n",
    "plt.ylabel('Total Revenue')\n",
    "plt.grid(True)\n",
    "plt.show()\n"
   ]
  },
  {
   "cell_type": "code",
   "execution_count": 9,
   "id": "0698c86b",
   "metadata": {},
   "outputs": [
    {
     "data": {
      "image/png": "[encoded data removed]",
      "text/plain": [
       "<Figure size 600x600 with 1 Axes>"
      ]
     },
     "metadata": {},
     "output_type": "display_data"
    }
   ],
   "source": [
    "# 2. Cancellation Rate as Percentage of Total Bookings\n",
    "cancellation_rate = (df['is_canceled'].sum() / len(df)) * 100\n",
    "\n",
    "plt.figure(figsize=(6, 6))\n",
    "plt.pie([cancellation_rate, 100 - cancellation_rate], labels=['Canceled', 'Not Canceled'], autopct='%1.1f%%', colors=['red', 'green'])\n",
    "plt.title('Cancellation Rate')\n",
    "plt.show()"
   ]
  },
  {
   "cell_type": "code",
   "execution_count": 10,
   "id": "03087dba",
   "metadata": {},
   "outputs": [
    {
     "data": {
      "application/vnd.plotly.v1+json": {
       "config": {
        "plotlyServerURL": "https://plot.ly"
       },
       "data": [
        {
         "coloraxis": "coloraxis",
         "geo": "geo",
         "hovertemplate": "<b>%{hovertext}</b><br><br>country=%{location}<br>booking_count=%{z}<extra></extra>",
         "hovertext": [
          "PRT",
          "GBR",
          "FRA",
          "ESP",
          "DEU",
          "ITA",
          "IRL",
          "BEL",
          "BRA",
          "NLD",
          "USA",
          "CHE",
          "CN",
          "AUT",
          "SWE",
          "CHN",
          "POL",
          "ISR",
          "RUS",
          "NOR",
          "ROU",
          "FIN",
          "DNK",
          "AUS",
          "AGO",
          "LUX",
          "MAR",
          "TUR",
          "HUN",
          "ARG",
          "JPN",
          "CZE",
          "IND",
          "KOR",
          "GRC",
          "DZA",
          "SRB",
          "HRV",
          "MEX",
          "IRN",
          "EST",
          "LTU",
          "ZAF",
          "BGR",
          "NZL",
          "COL",
          "UKR",
          "MOZ",
          "CHL",
          "SVK",
          "THA",
          "SVN",
          "ISL",
          "LVA",
          "CYP",
          "TWN",
          "ARE",
          "SAU",
          "PHL",
          "SGP",
          "TUN",
          "IDN",
          "NGA",
          "URY",
          "EGY",
          "LBN",
          "HKG",
          "PER",
          "MYS",
          "ECU",
          "VEN",
          "BLR",
          "CPV",
          "GEO",
          "JOR",
          "CRI",
          "KAZ",
          "MLT",
          "OMN",
          "GIB",
          "AZE",
          "MAC",
          "KWT",
          "QAT",
          "DOM",
          "IRQ",
          "PAK",
          "BIH",
          "ALB",
          "MDV",
          "BGD",
          "PRI",
          "SEN",
          "BOL",
          "CMR",
          "MKD",
          "PAN",
          "TJK",
          "GNB",
          "ARM",
          "JEY",
          "VNM",
          "LBY",
          "CUB",
          "AND",
          "LKA",
          "MUS",
          "CIV",
          "JAM",
          "KEN",
          "SUR",
          "BHR",
          "TZA",
          "MNE",
          "FRO",
          "CAF",
          "GHA",
          "UZB",
          "ZWE",
          "PRY",
          "BRB",
          "GTM",
          "MCO",
          "GAB",
          "TMP",
          "BEN",
          "ETH",
          "GGY",
          "SYR",
          "LIE",
          "LAO",
          "SLV",
          "ATA",
          "SYC",
          "COM",
          "ZMB",
          "UGA",
          "KNA",
          "TGO",
          "MYT",
          "RWA",
          "MWI",
          "STP",
          "KHM",
          "IMN",
          "GLP",
          "ABW",
          "BWA",
          "SMR",
          "CYM",
          "PLW",
          "FJI",
          "BDI",
          "VGB",
          "NIC",
          "HND",
          "DJI",
          "BHS",
          "NPL",
          "MDG",
          "UMI",
          "MLI",
          "BFA",
          "NAM",
          "MMR",
          "PYF",
          "DMA",
          "LCA",
          "AIA",
          "GUY",
          "ASM",
          "NCL",
          "MRT",
          "KIR",
          "SDN",
          "ATF",
          "SLE"
         ],
         "locationmode": "ISO-3",
         "locations": [
          "PRT",
          "GBR",
          "FRA",
          "ESP",
          "DEU",
          "ITA",
          "IRL",
          "BEL",
          "BRA",
          "NLD",
          "USA",
          "CHE",
          "CN",
          "AUT",
          "SWE",
          "CHN",
          "POL",
          "ISR",
          "RUS",
          "NOR",
          "ROU",
          "FIN",
          "DNK",
          "AUS",
          "AGO",
          "LUX",
          "MAR",
          "TUR",
          "HUN",
          "ARG",
          "JPN",
          "CZE",
          "IND",
          "KOR",
          "GRC",
          "DZA",
          "SRB",
          "HRV",
          "MEX",
          "IRN",
          "EST",
          "LTU",
          "ZAF",
          "BGR",
          "NZL",
          "COL",
          "UKR",
          "MOZ",
          "CHL",
          "SVK",
          "THA",
          "SVN",
          "ISL",
          "LVA",
          "CYP",
          "TWN",
          "ARE",
          "SAU",
          "PHL",
          "SGP",
          "TUN",
          "IDN",
          "NGA",
          "URY",
          "EGY",
          "LBN",
          "HKG",
          "PER",
          "MYS",
          "ECU",
          "VEN",
          "BLR",
          "CPV",
          "GEO",
          "JOR",
          "CRI",
          "KAZ",
          "MLT",
          "OMN",
          "GIB",
          "AZE",
          "MAC",
          "KWT",
          "QAT",
          "DOM",
          "IRQ",
          "PAK",
          "BIH",
          "ALB",
          "MDV",
          "BGD",
          "PRI",
          "SEN",
          "BOL",
          "CMR",
          "MKD",
          "PAN",
          "TJK",
          "GNB",
          "ARM",
          "JEY",
          "VNM",
          "LBY",
          "CUB",
          "AND",
          "LKA",
          "MUS",
          "CIV",
          "JAM",
          "KEN",
          "SUR",
          "BHR",
          "TZA",
          "MNE",
          "FRO",
          "CAF",
          "GHA",
          "UZB",
          "ZWE",
          "PRY",
          "BRB",
          "GTM",
          "MCO",
          "GAB",
          "TMP",
          "BEN",
          "ETH",
          "GGY",
          "SYR",
          "LIE",
          "LAO",
          "SLV",
          "ATA",
          "SYC",
          "COM",
          "ZMB",
          "UGA",
          "KNA",
          "TGO",
          "MYT",
          "RWA",
          "MWI",
          "STP",
          "KHM",
          "IMN",
          "GLP",
          "ABW",
          "BWA",
          "SMR",
          "CYM",
          "PLW",
          "FJI",
          "BDI",
          "VGB",
          "NIC",
          "HND",
          "DJI",
          "BHS",
          "NPL",
          "MDG",
          "UMI",
          "MLI",
          "BFA",
          "NAM",
          "MMR",
          "PYF",
          "DMA",
          "LCA",
          "AIA",
          "GUY",
          "ASM",
          "NCL",
          "MRT",
          "KIR",
          "SDN",
          "ATF",
          "SLE"
         ],
         "name": "",
         "type": "choropleth",
         "z": {
          "bdata": "tr8AAGEvAACvKAAAeCEAAHccAAC2DgAALw0AACYJAACwCAAAOAgAADEIAADCBgAA/wQAAO8EAAAABAAA5wMAAJcDAACdAgAAeAIAAF8CAAD0AQAAvwEAALMBAACqAQAAagEAAB8BAAADAQAA+AAAAOYAAADWAAAAxQAAAKsAAACYAAAAhQAAAIAAAABnAAAAZQAAAGQAAABVAAAAUwAAAFMAAABRAAAAUAAAAEsAAABKAAAARwAAAEQAAABDAAAAQQAAAEEAAAA7AAAAOQAAADkAAAA3AAAAMwAAADMAAAAzAAAAMAAAACgAAAAnAAAAJwAAACMAAAAiAAAAIAAAACAAAAAfAAAAHQAAAB0AAAAcAAAAGwAAABoAAAAaAAAAGAAAABYAAAAVAAAAEwAAABMAAAASAAAAEgAAABIAAAARAAAAEAAAABAAAAAPAAAADgAAAA4AAAAOAAAADQAAAAwAAAAMAAAADAAAAAwAAAALAAAACgAAAAoAAAAKAAAACQAAAAkAAAAJAAAACAAAAAgAAAAIAAAACAAAAAgAAAAHAAAABwAAAAcAAAAGAAAABgAAAAYAAAAFAAAABQAAAAUAAAAFAAAABQAAAAUAAAAEAAAABAAAAAQAAAAEAAAABAAAAAQAAAAEAAAABAAAAAMAAAADAAAAAwAAAAMAAAADAAAAAwAAAAIAAAACAAAAAgAAAAIAAAACAAAAAgAAAAIAAAACAAAAAgAAAAIAAAACAAAAAgAAAAIAAAACAAAAAgAAAAIAAAACAAAAAQAAAAEAAAABAAAAAQAAAAEAAAABAAAAAQAAAAEAAAABAAAAAQAAAAEAAAABAAAAAQAAAAEAAAABAAAAAQAAAAEAAAABAAAAAQAAAAEAAAABAAAAAQAAAAEAAAABAAAAAQAAAAEAAAABAAAAAQAAAAEAAAABAAAA",
          "dtype": "i4"
         }
        }
       ],
       "layout": {
        "coloraxis": {
         "colorbar": {
          "title": {
           "text": "booking_count"
          }
         },
         "colorscale": [
          [
           0,
           "rgb(247,251,255)"
          ],
          [
           0.125,
           "rgb(222,235,247)"
          ],
          [
           0.25,
           "rgb(198,219,239)"
          ],
          [
           0.375,
           "rgb(158,202,225)"
          ],
          [
           0.5,
           "rgb(107,174,214)"
          ],
          [
           0.625,
           "rgb(66,146,198)"
          ],
          [
           0.75,
           "rgb(33,113,181)"
          ],
          [
           0.875,
           "rgb(8,81,156)"
          ],
          [
           1,
           "rgb(8,48,107)"
          ]
         ]
        },
        "geo": {
         "center": {},
         "domain": {
          "x": [
           0,
           1
          ],
          "y": [
           0,
           1
          ]
         }
        },
        "legend": {
         "tracegroupgap": 0
        },
        "template": {
         "data": {
          "bar": [
           {
            "error_x": {
             "color": "#2a3f5f"
            },
            "error_y": {
             "color": "#2a3f5f"
            },
            "marker": {
             "line": {
              "color": "#E5ECF6",
              "width": 0.5
             },
             "pattern": {
              "fillmode": "overlay",
              "size": 10,
              "solidity": 0.2
             }
            },
            "type": "bar"
           }
          ],
          "barpolar": [
           {
            "marker": {
             "line": {
              "color": "#E5ECF6",
              "width": 0.5
             },
             "pattern": {
              "fillmode": "overlay",
              "size": 10,
              "solidity": 0.2
             }
            },
            "type": "barpolar"
           }
          ],
          "carpet": [
           {
            "aaxis": {
             "endlinecolor": "#2a3f5f",
             "gridcolor": "white",
             "linecolor": "white",
             "minorgridcolor": "white",
             "startlinecolor": "#2a3f5f"
            },
            "baxis": {
             "endlinecolor": "#2a3f5f",
             "gridcolor": "white",
             "linecolor": "white",
             "minorgridcolor": "white",
             "startlinecolor": "#2a3f5f"
            },
            "type": "carpet"
           }
          ],
          "choropleth": [
           {
            "colorbar": {
             "outlinewidth": 0,
             "ticks": ""
            },
            "type": "choropleth"
           }
          ],
          "contour": [
           {
            "colorbar": {
             "outlinewidth": 0,
             "ticks": ""
            },
            "colorscale": [
             [
              0,
              "#0d0887"
             ],
             [
              0.1111111111111111,
              "#46039f"
             ],
             [
              0.2222222222222222,
              "#7201a8"
             ],
             [
              0.3333333333333333,
              "#9c179e"
             ],
             [
              0.4444444444444444,
              "#bd3786"
             ],
             [
              0.5555555555555556,
              "#d8576b"
             ],
             [
              0.6666666666666666,
              "#ed7953"
             ],
             [
              0.7777777777777778,
              "#fb9f3a"
             ],
             [
              0.8888888888888888,
              "#fdca26"
             ],
             [
              1,
              "#f0f921"
             ]
            ],
            "type": "contour"
           }
          ],
          "contourcarpet": [
           {
            "colorbar": {
             "outlinewidth": 0,
             "ticks": ""
            },
            "type": "contourcarpet"
           }
          ],
          "heatmap": [
           {
            "colorbar": {
             "outlinewidth": 0,
             "ticks": ""
            },
            "colorscale": [
             [
              0,
              "#0d0887"
             ],
             [
              0.1111111111111111,
              "#46039f"
             ],
             [
              0.2222222222222222,
              "#7201a8"
             ],
             [
              0.3333333333333333,
              "#9c179e"
             ],
             [
              0.4444444444444444,
              "#bd3786"
             ],
             [
              0.5555555555555556,
              "#d8576b"
             ],
             [
              0.6666666666666666,
              "#ed7953"
             ],
             [
              0.7777777777777778,
              "#fb9f3a"
             ],
             [
              0.8888888888888888,
              "#fdca26"
             ],
             [
              1,
              "#f0f921"
             ]
            ],
            "type": "heatmap"
           }
          ],
          "histogram": [
           {
            "marker": {
             "pattern": {
              "fillmode": "overlay",
              "size": 10,
              "solidity": 0.2
             }
            },
            "type": "histogram"
           }
          ],
          "histogram2d": [
           {
            "colorbar": {
             "outlinewidth": 0,
             "ticks": ""
            },
            "colorscale": [
             [
              0,
              "#0d0887"
             ],
             [
              0.1111111111111111,
              "#46039f"
             ],
             [
              0.2222222222222222,
              "#7201a8"
             ],
             [
              0.3333333333333333,
              "#9c179e"
             ],
             [
              0.4444444444444444,
              "#bd3786"
             ],
             [
              0.5555555555555556,
              "#d8576b"
             ],
             [
              0.6666666666666666,
              "#ed7953"
             ],
             [
              0.7777777777777778,
              "#fb9f3a"
             ],
             [
              0.8888888888888888,
              "#fdca26"
             ],
             [
              1,
              "#f0f921"
             ]
            ],
            "type": "histogram2d"
           }
          ],
          "histogram2dcontour": [
           {
            "colorbar": {
             "outlinewidth": 0,
             "ticks": ""
            },
            "colorscale": [
             [
              0,
              "#0d0887"
             ],
             [
              0.1111111111111111,
              "#46039f"
             ],
             [
              0.2222222222222222,
              "#7201a8"
             ],
             [
              0.3333333333333333,
              "#9c179e"
             ],
             [
              0.4444444444444444,
              "#bd3786"
             ],
             [
              0.5555555555555556,
              "#d8576b"
             ],
             [
              0.6666666666666666,
              "#ed7953"
             ],
             [
              0.7777777777777778,
              "#fb9f3a"
             ],
             [
              0.8888888888888888,
              "#fdca26"
             ],
             [
              1,
              "#f0f921"
             ]
            ],
            "type": "histogram2dcontour"
           }
          ],
          "mesh3d": [
           {
            "colorbar": {
             "outlinewidth": 0,
             "ticks": ""
            },
            "type": "mesh3d"
           }
          ],
          "parcoords": [
           {
            "line": {
             "colorbar": {
              "outlinewidth": 0,
              "ticks": ""
             }
            },
            "type": "parcoords"
           }
          ],
          "pie": [
           {
            "automargin": true,
            "type": "pie"
           }
          ],
          "scatter": [
           {
            "fillpattern": {
             "fillmode": "overlay",
             "size": 10,
             "solidity": 0.2
            },
            "type": "scatter"
           }
          ],
          "scatter3d": [
           {
            "line": {
             "colorbar": {
              "outlinewidth": 0,
              "ticks": ""
             }
            },
            "marker": {
             "colorbar": {
              "outlinewidth": 0,
              "ticks": ""
             }
            },
            "type": "scatter3d"
           }
          ],
          "scattercarpet": [
           {
            "marker": {
             "colorbar": {
              "outlinewidth": 0,
              "ticks": ""
             }
            },
            "type": "scattercarpet"
           }
          ],
          "scattergeo": [
           {
            "marker": {
             "colorbar": {
              "outlinewidth": 0,
              "ticks": ""
             }
            },
            "type": "scattergeo"
           }
          ],
          "scattergl": [
           {
            "marker": {
             "colorbar": {
              "outlinewidth": 0,
              "ticks": ""
             }
            },
            "type": "scattergl"
           }
          ],
          "scattermap": [
           {
            "marker": {
             "colorbar": {
              "outlinewidth": 0,
              "ticks": ""
             }
            },
            "type": "scattermap"
           }
          ],
          "scattermapbox": [
           {
            "marker": {
             "colorbar": {
              "outlinewidth": 0,
              "ticks": ""
             }
            },
            "type": "scattermapbox"
           }
          ],
          "scatterpolar": [
           {
            "marker": {
             "colorbar": {
              "outlinewidth": 0,
              "ticks": ""
             }
            },
            "type": "scatterpolar"
           }
          ],
          "scatterpolargl": [
           {
            "marker": {
             "colorbar": {
              "outlinewidth": 0,
              "ticks": ""
             }
            },
            "type": "scatterpolargl"
           }
          ],
          "scatterternary": [
           {
            "marker": {
             "colorbar": {
              "outlinewidth": 0,
              "ticks": ""
             }
            },
            "type": "scatterternary"
           }
          ],
          "surface": [
           {
            "colorbar": {
             "outlinewidth": 0,
             "ticks": ""
            },
            "colorscale": [
             [
              0,
              "#0d0887"
             ],
             [
              0.1111111111111111,
              "#46039f"
             ],
             [
              0.2222222222222222,
              "#7201a8"
             ],
             [
              0.3333333333333333,
              "#9c179e"
             ],
             [
              0.4444444444444444,
              "#bd3786"
             ],
             [
              0.5555555555555556,
              "#d8576b"
             ],
             [
              0.6666666666666666,
              "#ed7953"
             ],
             [
              0.7777777777777778,
              "#fb9f3a"
             ],
             [
              0.8888888888888888,
              "#fdca26"
             ],
             [
              1,
              "#f0f921"
             ]
            ],
            "type": "surface"
           }
          ],
          "table": [
           {
            "cells": {
             "fill": {
              "color": "#EBF0F8"
             },
             "line": {
              "color": "white"
             }
            },
            "header": {
             "fill": {
              "color": "#C8D4E3"
             },
             "line": {
              "color": "white"
             }
            },
            "type": "table"
           }
          ]
         },
         "layout": {
          "annotationdefaults": {
           "arrowcolor": "#2a3f5f",
           "arrowhead": 0,
           "arrowwidth": 1
          },
          "autotypenumbers": "strict",
          "coloraxis": {
           "colorbar": {
            "outlinewidth": 0,
            "ticks": ""
           }
          },
          "colorscale": {
           "diverging": [
            [
             0,
             "#8e0152"
            ],
            [
             0.1,
             "#c51b7d"
            ],
            [
             0.2,
             "#de77ae"
            ],
            [
             0.3,
             "#f1b6da"
            ],
            [
             0.4,
             "#fde0ef"
            ],
            [
             0.5,
             "#f7f7f7"
            ],
            [
             0.6,
             "#e6f5d0"
            ],
            [
             0.7,
             "#b8e186"
            ],
            [
             0.8,
             "#7fbc41"
            ],
            [
             0.9,
             "#4d9221"
            ],
            [
             1,
             "#276419"
            ]
           ],
           "sequential": [
            [
             0,
             "#0d0887"
            ],
            [
             0.1111111111111111,
             "#46039f"
            ],
            [
             0.2222222222222222,
             "#7201a8"
            ],
            [
             0.3333333333333333,
             "#9c179e"
            ],
            [
             0.4444444444444444,
             "#bd3786"
            ],
            [
             0.5555555555555556,
             "#d8576b"
            ],
            [
             0.6666666666666666,
             "#ed7953"
            ],
            [
             0.7777777777777778,
             "#fb9f3a"
            ],
            [
             0.8888888888888888,
             "#fdca26"
            ],
            [
             1,
             "#f0f921"
            ]
           ],
           "sequentialminus": [
            [
             0,
             "#0d0887"
            ],
            [
             0.1111111111111111,
             "#46039f"
            ],
            [
             0.2222222222222222,
             "#7201a8"
            ],
            [
             0.3333333333333333,
             "#9c179e"
            ],
            [
             0.4444444444444444,
             "#bd3786"
            ],
            [
             0.5555555555555556,
             "#d8576b"
            ],
            [
             0.6666666666666666,
             "#ed7953"
            ],
            [
             0.7777777777777778,
             "#fb9f3a"
            ],
            [
             0.8888888888888888,
             "#fdca26"
            ],
            [
             1,
             "#f0f921"
            ]
           ]
          },
          "colorway": [
           "#636efa",
           "#EF553B",
           "#00cc96",
           "#ab63fa",
           "#FFA15A",
           "#19d3f3",
           "#FF6692",
           "#B6E880",
           "#FF97FF",
           "#FECB52"
          ],
          "font": {
           "color": "#2a3f5f"
          },
          "geo": {
           "bgcolor": "white",
           "lakecolor": "white",
           "landcolor": "#E5ECF6",
           "showlakes": true,
           "showland": true,
           "subunitcolor": "white"
          },
          "hoverlabel": {
           "align": "left"
          },
          "hovermode": "closest",
          "mapbox": {
           "style": "light"
          },
          "paper_bgcolor": "white",
          "plot_bgcolor": "#E5ECF6",
          "polar": {
           "angularaxis": {
            "gridcolor": "white",
            "linecolor": "white",
            "ticks": ""
           },
           "bgcolor": "#E5ECF6",
           "radialaxis": {
            "gridcolor": "white",
            "linecolor": "white",
            "ticks": ""
           }
          },
          "scene": {
           "xaxis": {
            "backgroundcolor": "#E5ECF6",
            "gridcolor": "white",
            "gridwidth": 2,
            "linecolor": "white",
            "showbackground": true,
            "ticks": "",
            "zerolinecolor": "white"
           },
           "yaxis": {
            "backgroundcolor": "#E5ECF6",
            "gridcolor": "white",
            "gridwidth": 2,
            "linecolor": "white",
            "showbackground": true,
            "ticks": "",
            "zerolinecolor": "white"
           },
           "zaxis": {
            "backgroundcolor": "#E5ECF6",
            "gridcolor": "white",
            "gridwidth": 2,
            "linecolor": "white",
            "showbackground": true,
            "ticks": "",
            "zerolinecolor": "white"
           }
          },
          "shapedefaults": {
           "line": {
            "color": "#2a3f5f"
           }
          },
          "ternary": {
           "aaxis": {
            "gridcolor": "white",
            "linecolor": "white",
            "ticks": ""
           },
           "baxis": {
            "gridcolor": "white",
            "linecolor": "white",
            "ticks": ""
           },
           "bgcolor": "#E5ECF6",
           "caxis": {
            "gridcolor": "white",
            "linecolor": "white",
            "ticks": ""
           }
          },
          "title": {
           "x": 0.05
          },
          "xaxis": {
           "automargin": true,
           "gridcolor": "white",
           "linecolor": "white",
           "ticks": "",
           "title": {
            "standoff": 15
           },
           "zerolinecolor": "white",
           "zerolinewidth": 2
          },
          "yaxis": {
           "automargin": true,
           "gridcolor": "white",
           "linecolor": "white",
           "ticks": "",
           "title": {
            "standoff": 15
           },
           "zerolinecolor": "white",
           "zerolinewidth": 2
          }
         }
        },
        "title": {
         "text": "Geographical Distribution of Bookings"
        }
       }
      }
     },
     "metadata": {},
     "output_type": "display_data"
    }
   ],
   "source": [
    "# 3. Geographical Distribution of Users Booking\n",
    "import plotly.express as px\n",
    "country_counts = df['country'].value_counts().reset_index()\n",
    "country_counts.columns = ['country', 'booking_count']\n",
    "\n",
    "# Plot choropleth map\n",
    "fig = px.choropleth(\n",
    "    country_counts,\n",
    "    locations=\"country\",\n",
    "    locationmode=\"ISO-3\",\n",
    "    color=\"booking_count\",\n",
    "    hover_name=\"country\",\n",
    "    color_continuous_scale=\"Blues\",\n",
    "    title=\"Geographical Distribution of Bookings\"\n",
    ")\n",
    "\n",
    "# Show plot\n",
    "fig.show()"
   ]
  },
  {
   "cell_type": "code",
   "execution_count": 11,
   "id": "ce54fb60",
   "metadata": {},
   "outputs": [
    {
     "data": {
      "image/png": "[encoded data removed]",
      "text/plain": [
       "<Figure size 1000x500 with 1 Axes>"
      ]
     },
     "metadata": {},
     "output_type": "display_data"
    }
   ],
   "source": [
    "# 4. Booking Lead Time Distribution\n",
    "plt.figure(figsize=(10, 5))\n",
    "sns.histplot(df['lead_time'], bins=50, kde=True, color='blue')\n",
    "plt.title('Distribution of Booking Lead Time')\n",
    "plt.xlabel('Lead Time (Days)')\n",
    "plt.ylabel('Count')\n",
    "plt.show()"
   ]
  },
  {
   "cell_type": "code",
   "execution_count": 12,
   "id": "17d4f1e0",
   "metadata": {},
   "outputs": [
    {
     "name": "stderr",
     "output_type": "stream",
     "text": [
      "C:\\Users\\alway\\AppData\\Local\\Temp\\ipykernel_23448\\2829277751.py:11: FutureWarning:\n",
      "\n",
      "\n",
      "\n",
      "Passing `palette` without assigning `hue` is deprecated and will be removed in v0.14.0. Assign the `x` variable to `hue` and set `legend=False` for the same effect.\n",
      "\n",
      "\n"
     ]
    },
    {
     "data": {
      "image/png": "[encoded data removed]",
      "text/plain": [
       "<Figure size 1000x500 with 1 Axes>"
      ]
     },
     "metadata": {},
     "output_type": "display_data"
    }
   ],
   "source": [
    "# 5. Additional Analytics\n",
    "\n",
    "# Average stay duration\n",
    "df['total_stay'] = df['stays_in_week_nights'] + df['stays_in_weekend_nights']\n",
    "avg_stay = df['total_stay'].mean()\n",
    "\n",
    "# Revenue by country (Top 10)\n",
    "revenue_by_country = df.groupby('country')['total_revenue'].sum().sort_values(ascending=False).head(10)\n",
    "\n",
    "plt.figure(figsize=(10, 5))\n",
    "sns.barplot(x=revenue_by_country.index, y=revenue_by_country.values, palette='Blues_r')\n",
    "plt.title('Top 10 Countries by Revenue')\n",
    "plt.xlabel('Country')\n",
    "plt.ylabel('Total Revenue')\n",
    "plt.show()"
   ]
  }
 ],
 "metadata": {
  "kernelspec": {
   "display_name": "myenv",
   "language": "python",
   "name": "python3"
  },
  "language_info": {
   "codemirror_mode": {
    "name": "ipython",
    "version": 3
   },
   "file_extension": ".py",
   "mimetype": "text/x-python",
   "name": "python",
   "nbconvert_exporter": "python",
   "pygments_lexer": "ipython3",
   "version": "3.11.5"
  }
 },
 "nbformat": 4,
 "nbformat_minor": 5
}
